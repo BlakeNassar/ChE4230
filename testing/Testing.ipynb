{
 "cells": [
  {
   "cell_type": "code",
   "execution_count": 3,
   "metadata": {},
   "outputs": [],
   "source": [
    "import os\n",
    "import sys\n",
    "os.chdir(\"C:/Users/nassa/OneDrive/Desktop/Git_Repos/ChE4230_Project/ChE4230/testing\")\n",
    "os.chdir(\"../\")"
   ]
  },
  {
   "cell_type": "code",
   "execution_count": 23,
   "metadata": {},
   "outputs": [],
   "source": [
    "import pandas as pd\n",
    "import numpy as np\n",
    "from source import data_preprocess\n",
    "from source import DR_methods\n",
    "from sklearn.preprocessing import StandardScaler\n",
    "import matplotlib.pyplot as plt\n",
    "from sklearn.model_selection import train_test_split"
   ]
  },
  {
   "cell_type": "code",
   "execution_count": 17,
   "metadata": {},
   "outputs": [
    {
     "name": "stdout",
     "output_type": "stream",
     "text": [
      "   Unnamed: 0    XMEAS1       XMEAS2       XMEAS3    XMEAS4     XMEAS5  \\\n",
      "0           1  0.271033  3649.739415  4451.320791  9.223142  32.392900   \n",
      "1           2  0.270826  3653.341885  4488.640140  9.211980  32.501953   \n",
      "2           3  0.270474  3688.113265  4432.832766  9.235690  32.402838   \n",
      "3           4  0.272127  3651.680041  4459.268940  9.192009  31.876790   \n",
      "4           5  0.270939  3636.329271  4460.409756  9.277992  32.424754   \n",
      "\n",
      "      XMEAS6       XMEAS7     XMEAS8      XMEAS9  ...       XMV3       XMV4  \\\n",
      "0  47.559754  2798.975799  64.995825  122.898796  ...  26.662173  60.482854   \n",
      "1  47.374855  2800.296214  65.091251  122.877519  ...  26.689544  60.524644   \n",
      "2  47.817088  2802.647777  64.812363  122.916165  ...  26.705507  60.546193   \n",
      "3  47.869249  2803.693084  64.205417  122.892493  ...  26.768653  60.568588   \n",
      "4  47.509322  2804.787223  64.598623  122.890514  ...  26.396773  60.637598   \n",
      "\n",
      "   XMV5       XMV6       XMV7       XMV8  XMV9      XMV10      XMV11  XMV12  \n",
      "0     0  24.229301  37.208198  46.430526     0  35.865322  12.930642    100  \n",
      "1     0  24.171763  37.227431  46.427192     0  35.719177  11.714423    100  \n",
      "2     0  25.179022  37.243766  46.442544     0  35.740715  10.734676    100  \n",
      "3     0  26.922729  37.211698  46.407497     0  35.736154  10.311783    100  \n",
      "4     0  29.039605  37.199517  46.424034     0  35.890716  11.181380    100  \n",
      "\n",
      "[5 rows x 54 columns]\n"
     ]
    }
   ],
   "source": [
    "data = data_preprocess.DataProcessing().load_data(\"../ChE4230/data/RawData.xlsx\")"
   ]
  },
  {
   "cell_type": "code",
   "execution_count": 20,
   "metadata": {},
   "outputs": [],
   "source": [
    "train_validation, test = train_test_split(data, test_size = 0.2, random_state=42)\n",
    "train, validation = train_test_split(train_validation, test_size = 0.2, random_state=42)\n"
   ]
  },
  {
   "cell_type": "code",
   "execution_count": 22,
   "metadata": {},
   "outputs": [
    {
     "name": "stdout",
     "output_type": "stream",
     "text": [
      "(1276, 54)\n",
      "(399, 54)\n"
     ]
    }
   ],
   "source": [
    "scaler = StandardScaler()\n",
    "scaler.fit(train)\n",
    "\n",
    "train_scaled = scaler.transform(train)\n",
    "test_scaled = scaler.transform(test)\n",
    "print(np.shape(train_scaled))\n",
    "print(np.shape(test_scaled))"
   ]
  },
  {
   "cell_type": "code",
   "execution_count": null,
   "metadata": {},
   "outputs": [],
   "source": [
    "data_PCA = DR_methods.DR"
   ]
  }
 ],
 "metadata": {
  "kernelspec": {
   "display_name": "ChE4230",
   "language": "python",
   "name": "python3"
  },
  "language_info": {
   "codemirror_mode": {
    "name": "ipython",
    "version": 3
   },
   "file_extension": ".py",
   "mimetype": "text/x-python",
   "name": "python",
   "nbconvert_exporter": "python",
   "pygments_lexer": "ipython3",
   "version": "3.11.0"
  },
  "orig_nbformat": 4
 },
 "nbformat": 4,
 "nbformat_minor": 2
}
